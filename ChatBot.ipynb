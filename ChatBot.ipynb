{
 "cells": [
  {
   "cell_type": "markdown",
   "id": "695dcb8e",
   "metadata": {},
   "source": [
    "### Implementing simple chatbot using langgraph"
   ]
  },
  {
   "cell_type": "code",
   "execution_count": null,
   "id": "55ecca32",
   "metadata": {},
   "outputs": [],
   "source": [
    "from typing_extensions import TypedDict\n",
    "from langgraph.graph import StateGraph,START,END\n",
    "\n",
    "#Reducers\n",
    "\n",
    "from typing import Annotated\n",
    "from langgraph.graph.message import add_messages # library for message handling, Merges two lists of messages, updating existing messages by ID.\n",
    "\n",
    "class State(TypedDict):\n",
    "    messages: Annotated[list, add_messages]  # List of messages in the conversation"
   ]
  },
  {
   "cell_type": "code",
   "execution_count": null,
   "id": "c04efdef",
   "metadata": {},
   "outputs": [],
   "source": [
    "import os \n",
    "from dotenv import load_dotenv\n",
    "load_dotenv()\n",
    "\n",
    "os.environ[\"API key variable\"] = # Get your OpenAI API key from environment variables\n",
    "os.environ[\"Api key variable \"] = # Get your Groq API key from environment variables"
   ]
  },
  {
   "cell_type": "code",
   "execution_count": null,
   "id": "097b526b",
   "metadata": {},
   "outputs": [],
   "source": [
    "from langchain_openai import ChatOpenAI\n",
    "\n",
    "model = ChatOpenAI(model= \"gpt-5-nano\")\n",
    "model.invoke(\"Hello\")"
   ]
  },
  {
   "cell_type": "code",
   "execution_count": null,
   "id": "072a36ba",
   "metadata": {},
   "outputs": [],
   "source": [
    "from langchain_groq import ChatGroq\n",
    "llm = ChatGroq(model=\"llama-3.1-8b-instant\")\n",
    "llm.invoke(\"Hello my name is Karthik , I like to take photos\")"
   ]
  },
  {
   "cell_type": "code",
   "execution_count": null,
   "id": "51c6e884",
   "metadata": {},
   "outputs": [],
   "source": [
    "def superbot(state:State):\n",
    "    return {\"messages\":[llm.invoke(state['messages'])]} # Invokes the language model with the current messages and returns the response."
   ]
  },
  {
   "cell_type": "code",
   "execution_count": null,
   "id": "1ce4463f",
   "metadata": {},
   "outputs": [],
   "source": [
    "graph = StateGraph(State)\n",
    "\n",
    "# Add nodes to the graph\n",
    "graph.add_node(\"Superbot\",superbot)\n",
    "\n",
    "# Add edges to the graph\n",
    "\n",
    "graph.add_edge(START,\"Superbot\")\n",
    "graph.add_edge(\"Superbot\",END)\n",
    "\n",
    "# Execute the graph\n",
    "result = graph.compile()"
   ]
  },
  {
   "cell_type": "code",
   "execution_count": null,
   "id": "6443fd66",
   "metadata": {},
   "outputs": [],
   "source": [
    "#Display the graph\n",
    "\n",
    "from IPython.display import display,Image\n",
    "display(Image(result.get_graph().draw_mermaid_png()))"
   ]
  },
  {
   "cell_type": "code",
   "execution_count": null,
   "id": "45636adf",
   "metadata": {},
   "outputs": [],
   "source": [
    "# Invocation  \n",
    "\n",
    "result.invoke({\"messages\":\"Hi My name is Karthik and i am an AI Engineer\"})"
   ]
  },
  {
   "cell_type": "code",
   "execution_count": null,
   "id": "71ba306f",
   "metadata": {},
   "outputs": [],
   "source": [
    "# Streaming  the Responses\n",
    "update = result.stream({\"messages\":\"Hi My name is Karthik and i am an AI Engineer\"},stream_mode=\"values\")\n",
    "for message in update:\n",
    "    print(message)"
   ]
  }
 ],
 "metadata": {
  "language_info": {
   "name": "python"
  }
 },
 "nbformat": 4,
 "nbformat_minor": 5
}
